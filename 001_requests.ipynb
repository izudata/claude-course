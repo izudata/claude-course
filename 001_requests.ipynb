{
 "cells": [
  {
   "cell_type": "code",
   "execution_count": null,
   "id": "ef5b7aba",
   "metadata": {},
   "outputs": [],
   "source": [
    "%pip install anthropic python-dotenv"
   ]
  },
  {
   "cell_type": "code",
   "execution_count": 2,
   "id": "0a2ae391",
   "metadata": {},
   "outputs": [],
   "source": [
    "# Load env variables\n",
    "from dotenv import load_dotenv"
   ]
  },
  {
   "cell_type": "code",
   "execution_count": 3,
   "id": "a79cecbd",
   "metadata": {},
   "outputs": [
    {
     "data": {
      "text/plain": [
       "True"
      ]
     },
     "execution_count": 3,
     "metadata": {},
     "output_type": "execute_result"
    }
   ],
   "source": [
    "load_dotenv()"
   ]
  },
  {
   "cell_type": "code",
   "execution_count": 4,
   "id": "bc19465a",
   "metadata": {},
   "outputs": [],
   "source": [
    "# Create an API client\n",
    "from anthropic import Anthropic"
   ]
  },
  {
   "cell_type": "code",
   "execution_count": 5,
   "id": "383bfb4e",
   "metadata": {},
   "outputs": [],
   "source": [
    "client = Anthropic()\n",
    "model = \"claude-sonnet-4-0\""
   ]
  },
  {
   "cell_type": "code",
   "execution_count": 6,
   "id": "2531d9b2",
   "metadata": {},
   "outputs": [],
   "source": [
    "# Make a request\n",
    "message = client.messages.create(\n",
    "    model=model,\n",
    "    max_tokens=1000,\n",
    "    messages = [\n",
    "        {\"role\": \"user\",\n",
    "         \"content\": \"What is quantum computing? Answer in one sentence\"}\n",
    "    ]\n",
    ")"
   ]
  },
  {
   "cell_type": "code",
   "execution_count": 7,
   "id": "80800b1b",
   "metadata": {},
   "outputs": [
    {
     "data": {
      "text/plain": [
       "Message(id='msg_01TTQs24vdGwCv7QqiMv9h1v', content=[TextBlock(citations=None, text='Quantum computing is a revolutionary computing paradigm that uses quantum mechanical phenomena like superposition and entanglement to process information in ways that can potentially solve certain complex problems exponentially faster than classical computers.', type='text')], model='claude-sonnet-4-20250514', role='assistant', stop_reason='end_turn', stop_sequence=None, type='message', usage=Usage(cache_creation_input_tokens=0, cache_read_input_tokens=0, input_tokens=16, output_tokens=43, server_tool_use=None, service_tier='standard'))"
      ]
     },
     "execution_count": 7,
     "metadata": {},
     "output_type": "execute_result"
    }
   ],
   "source": [
    "message"
   ]
  },
  {
   "cell_type": "code",
   "execution_count": 8,
   "id": "250b22b8",
   "metadata": {},
   "outputs": [
    {
     "data": {
      "text/plain": [
       "'Quantum computing is a revolutionary computing paradigm that uses quantum mechanical phenomena like superposition and entanglement to process information in ways that can potentially solve certain complex problems exponentially faster than classical computers.'"
      ]
     },
     "execution_count": 8,
     "metadata": {},
     "output_type": "execute_result"
    }
   ],
   "source": [
    "message.content[0].text"
   ]
  },
  {
   "cell_type": "markdown",
   "id": "c9ca56c2",
   "metadata": {},
   "source": [
    "When working with the Anthropic API and Claude, there's a crucial concept you need to understand: Claude doesn't store any of your conversation history. Each request you make is completely independent, with no memory of previous exchanges."
   ]
  },
  {
   "cell_type": "code",
   "execution_count": 10,
   "id": "46e9c44c",
   "metadata": {},
   "outputs": [
    {
     "data": {
      "text/plain": [
       "'The morning sun filtered through the curtains, casting gentle shadows across the wooden floor.'"
      ]
     },
     "execution_count": 10,
     "metadata": {},
     "output_type": "execute_result"
    }
   ],
   "source": [
    "# first request\n",
    "message = client.messages.create(\n",
    "    model=model,\n",
    "    max_tokens=1000,\n",
    "    messages = [\n",
    "        {\"role\": \"user\",\n",
    "         \"content\": \"What is quantum computing? Answer in one sentence\"}\n",
    "    ]\n",
    ")\n",
    "\n",
    "# Second request\n",
    "# Make a request\n",
    "message = client.messages.create(\n",
    "    model=model,\n",
    "    max_tokens=1000,\n",
    "    messages = [\n",
    "        {\"role\": \"user\",\n",
    "         \"content\": \"Write another sentence\"}\n",
    "    ]\n",
    ")\n",
    "message.content[0].text"
   ]
  },
  {
   "cell_type": "markdown",
   "id": "67c7dce3",
   "metadata": {},
   "source": [
    "Helper functions"
   ]
  },
  {
   "cell_type": "code",
   "execution_count": 14,
   "id": "5c3a75b0",
   "metadata": {},
   "outputs": [],
   "source": [
    "def add_user_message(messages, text):\n",
    "    user_message = {\"role\": \"user\", \"content\":  text}\n",
    "    messages.append(user_message)\n",
    "\n",
    "def add_assistant_message(messages, text):\n",
    "    assistant_message = {\"role\": \"assistant\", \"content\":  text}\n",
    "    messages.append(assistant_message)\n",
    "\n",
    "def chat(messages):\n",
    "    message = client.messages.create(\n",
    "        model=model,\n",
    "        max_tokens=1000,\n",
    "        messages = messages\n",
    "    )\n",
    "    return message.content[0].text"
   ]
  },
  {
   "cell_type": "code",
   "execution_count": 26,
   "id": "7e35f529",
   "metadata": {},
   "outputs": [],
   "source": [
    "# Make a starting list of messages\n",
    "messages = []\n"
   ]
  },
  {
   "cell_type": "code",
   "execution_count": 27,
   "id": "21e7cbbf",
   "metadata": {},
   "outputs": [],
   "source": [
    "# Add initial user question of \"Define quantum computing in one sentence\"\n",
    "add_user_message(messages, \"Define quantum computing in one sentence\")"
   ]
  },
  {
   "cell_type": "code",
   "execution_count": 28,
   "id": "b88506d5",
   "metadata": {},
   "outputs": [
    {
     "data": {
      "text/plain": [
       "[{'role': 'user', 'content': 'Define quantum computing in one sentence'}]"
      ]
     },
     "execution_count": 28,
     "metadata": {},
     "output_type": "execute_result"
    }
   ],
   "source": [
    "\n",
    "# Check the function is working well by printing the list of messages\n",
    "messages"
   ]
  },
  {
   "cell_type": "code",
   "execution_count": 30,
   "id": "bac549af",
   "metadata": {},
   "outputs": [],
   "source": [
    "# Let assumed we had an earlier message\n",
    "messages = [{\"role\": \"user\", \"content\": \"Welcome!\"}]\n"
   ]
  },
  {
   "cell_type": "code",
   "execution_count": 31,
   "id": "b218369c",
   "metadata": {},
   "outputs": [],
   "source": [
    "add_user_message(messages, \"Define quantum computing in one sentence\")"
   ]
  },
  {
   "cell_type": "code",
   "execution_count": 32,
   "id": "943b25b9",
   "metadata": {},
   "outputs": [
    {
     "data": {
      "text/plain": [
       "[{'role': 'user', 'content': 'Welcome!'},\n",
       " {'role': 'user', 'content': 'Define quantum computing in one sentence'}]"
      ]
     },
     "execution_count": 32,
     "metadata": {},
     "output_type": "execute_result"
    }
   ],
   "source": [
    "# Check the function is working well by printing the list of messages\n",
    "messages"
   ]
  },
  {
   "cell_type": "code",
   "execution_count": 33,
   "id": "f178e794",
   "metadata": {},
   "outputs": [],
   "source": [
    "# Pass the list of messages into 'chat' function to get an answer\n",
    "answer = chat(messages)"
   ]
  },
  {
   "cell_type": "code",
   "execution_count": 34,
   "id": "722daf80",
   "metadata": {},
   "outputs": [
    {
     "data": {
      "text/plain": [
       "'Quantum computing is a revolutionary computing paradigm that harnesses quantum mechanical phenomena like superposition and entanglement to process information in ways that can potentially solve certain complex problems exponentially faster than classical computers.'"
      ]
     },
     "execution_count": 34,
     "metadata": {},
     "output_type": "execute_result"
    }
   ],
   "source": [
    "answer"
   ]
  },
  {
   "cell_type": "code",
   "execution_count": 35,
   "id": "67431787",
   "metadata": {},
   "outputs": [],
   "source": [
    "# Take the answer and add it to an assistant message into our list\n",
    "add_assistant_message(messages, answer)"
   ]
  },
  {
   "cell_type": "code",
   "execution_count": 36,
   "id": "8f062a78",
   "metadata": {},
   "outputs": [
    {
     "data": {
      "text/plain": [
       "[{'role': 'user', 'content': 'Welcome!'},\n",
       " {'role': 'user', 'content': 'Define quantum computing in one sentence'},\n",
       " {'role': 'assistant',\n",
       "  'content': 'Quantum computing is a revolutionary computing paradigm that harnesses quantum mechanical phenomena like superposition and entanglement to process information in ways that can potentially solve certain complex problems exponentially faster than classical computers.'}]"
      ]
     },
     "execution_count": 36,
     "metadata": {},
     "output_type": "execute_result"
    }
   ],
   "source": [
    "# Check list of messages again\n",
    "messages"
   ]
  },
  {
   "cell_type": "code",
   "execution_count": 37,
   "id": "752e7e43",
   "metadata": {},
   "outputs": [],
   "source": [
    "# Add in the user's follow-up question\n",
    "add_user_message(messages, \"Write another sentence\")"
   ]
  },
  {
   "cell_type": "code",
   "execution_count": 38,
   "id": "f7219545",
   "metadata": {},
   "outputs": [],
   "source": [
    "# Call chat again and assign it to the variable answer\n",
    "answer = chat(messages)"
   ]
  },
  {
   "cell_type": "code",
   "execution_count": 39,
   "id": "38285bc0",
   "metadata": {},
   "outputs": [
    {
     "data": {
      "text/plain": [
       "'Quantum computers use quantum bits (qubits) that can exist in multiple states simultaneously, unlike classical bits that are either 0 or 1, enabling them to perform many calculations in parallel.'"
      ]
     },
     "execution_count": 39,
     "metadata": {},
     "output_type": "execute_result"
    }
   ],
   "source": [
    "answer"
   ]
  },
  {
   "cell_type": "code",
   "execution_count": null,
   "id": "a595c03d",
   "metadata": {},
   "outputs": [],
   "source": []
  }
 ],
 "metadata": {
  "kernelspec": {
   "display_name": "dl-gpu",
   "language": "python",
   "name": "dl-gpu"
  },
  "language_info": {
   "codemirror_mode": {
    "name": "ipython",
    "version": 3
   },
   "file_extension": ".py",
   "mimetype": "text/x-python",
   "name": "python",
   "nbconvert_exporter": "python",
   "pygments_lexer": "ipython3",
   "version": "3.10.16"
  }
 },
 "nbformat": 4,
 "nbformat_minor": 5
}
