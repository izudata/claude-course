{
 "cells": [
  {
   "cell_type": "code",
   "execution_count": null,
   "id": "1e0aec63",
   "metadata": {},
   "outputs": [],
   "source": [
    "# Load env variables\n",
    "from dotenv import load_dotenv"
   ]
  },
  {
   "cell_type": "code",
   "execution_count": null,
   "id": "d2ade1f0",
   "metadata": {},
   "outputs": [],
   "source": [
    "load_dotenv()"
   ]
  },
  {
   "cell_type": "code",
   "execution_count": null,
   "id": "af08dad8",
   "metadata": {},
   "outputs": [],
   "source": [
    "# Create an API client\n",
    "from anthropic import Anthropic"
   ]
  },
  {
   "cell_type": "code",
   "execution_count": null,
   "id": "adec3270",
   "metadata": {},
   "outputs": [],
   "source": [
    "client = Anthropic()\n",
    "model = \"claude-sonnet-4-0\""
   ]
  },
  {
   "cell_type": "code",
   "execution_count": null,
   "id": "c4d870f4",
   "metadata": {},
   "outputs": [],
   "source": [
    "def add_user_message(messages, text):\n",
    "    user_message = {\"role\": \"user\", \"content\":  text}\n",
    "    messages.append(user_message)\n",
    "\n",
    "def add_assistant_message(messages, text):\n",
    "    assistant_message = {\"role\": \"assistant\", \"content\":  text}\n",
    "    messages.append(assistant_message)\n",
    "\n",
    "def chat(messages):\n",
    "    message = client.messages.create(\n",
    "        model=model,\n",
    "        max_tokens=1000,\n",
    "        messages = messages\n",
    "    )\n",
    "    return message.content[0].text"
   ]
  },
  {
   "cell_type": "code",
   "execution_count": null,
   "id": "347d60b3",
   "metadata": {},
   "outputs": [],
   "source": [
    "messages = []"
   ]
  },
  {
   "cell_type": "code",
   "execution_count": null,
   "id": "f933a9ad",
   "metadata": {},
   "outputs": [],
   "source": [
    "# Add user message\n",
    "add_user_message(messages, \"How do I solve 5x+3=2 for x?\")\n",
    "\n",
    "answer = chat(messages)\n",
    "\n",
    "answer"
   ]
  },
  {
   "cell_type": "markdown",
   "id": "ad1130b5",
   "metadata": {},
   "source": [
    "Add a system prompt"
   ]
  },
  {
   "cell_type": "code",
   "execution_count": null,
   "id": "896652a4",
   "metadata": {},
   "outputs": [],
   "source": [
    "def chat(messages):\n",
    "    system_prompt = \"\"\"\"\n",
    "    You are a patient math tutor. \n",
    "    Do not directly answer a student's questions. \n",
    "    Guide them to a solution step by step.\n",
    "    \"\"\"\n",
    "    message = client.messages.create(\n",
    "        model=model,\n",
    "        max_tokens=1000,\n",
    "        messages = messages,\n",
    "        system=system_prompt\n",
    "    )\n",
    "    return message.content[0].text"
   ]
  },
  {
   "cell_type": "code",
   "execution_count": null,
   "id": "5566ba38",
   "metadata": {},
   "outputs": [],
   "source": [
    "messages = []"
   ]
  },
  {
   "cell_type": "code",
   "execution_count": null,
   "id": "4792f07a",
   "metadata": {},
   "outputs": [],
   "source": [
    "# Repeat user message\n",
    "add_user_message(messages, \"How do I solve 5x+3=2 for x?\")\n",
    "\n",
    "answer = chat(messages)\n",
    "\n",
    "answer"
   ]
  },
  {
   "cell_type": "markdown",
   "id": "b4e31199",
   "metadata": {},
   "source": [
    "Pass system prompt when calling chat function instead of in the chat function definition"
   ]
  },
  {
   "cell_type": "code",
   "execution_count": null,
   "id": "6a14016a",
   "metadata": {},
   "outputs": [],
   "source": [
    "def chat(messages, system):\n",
    "    message = client.messages.create(\n",
    "        model=model,\n",
    "        max_tokens=1000,\n",
    "        messages = messages,\n",
    "        system=system_prompt\n",
    "    )\n",
    "    return message.content[0].text"
   ]
  },
  {
   "cell_type": "code",
   "execution_count": null,
   "id": "4729fa65",
   "metadata": {},
   "outputs": [],
   "source": [
    "messages = []"
   ]
  },
  {
   "cell_type": "code",
   "execution_count": null,
   "id": "06eac457",
   "metadata": {},
   "outputs": [],
   "source": [
    "# system prompt\n",
    "system_prompt = \"\"\"\"\n",
    "You are a patient math tutor. \n",
    "Do not directly answer a student's questions. \n",
    "Guide them to a solution step by step.\n",
    "\"\"\"\n",
    "\n",
    "# Repeat question\n",
    "add_user_message(messages, \"How do I solve 5x+3=2 for x?\")\n",
    "\n",
    "\n",
    "\n",
    "answer = chat(messages, system=system_prompt)\n",
    "\n",
    "answer"
   ]
  },
  {
   "cell_type": "markdown",
   "id": "cf64069a",
   "metadata": {},
   "source": [
    "Make system prompt more dynamic in the chat function. This will enable use to use or not to use system prompt"
   ]
  },
  {
   "cell_type": "code",
   "execution_count": null,
   "id": "35c402bc",
   "metadata": {},
   "outputs": [],
   "source": [
    "def add_user_message(messages, text):\n",
    "    user_message = {\"role\": \"user\", \"content\":  text}\n",
    "    messages.append(user_message)\n",
    "\n",
    "def add_assistant_message(messages, text):\n",
    "    assistant_message = {\"role\": \"assistant\", \"content\":  text}\n",
    "    messages.append(assistant_message)\n",
    "\n",
    "# Define chat function with input parameters: messages and system. Assign None to system.\n",
    "def chat(messages, system=None):\n",
    "    params = {\n",
    "        \"model\": model,\n",
    "        \"max_tokens\": 1000,\n",
    "        \"messages\": messages   \n",
    "    }\n",
    "\n",
    "# This checks if system_prompt was provided. Otherwise the 'None' takes precedence - params\n",
    "    if system: \n",
    "        params[\"system\"] = system_prompt\n",
    "\n",
    "    message = client.messages.create(**params)\n",
    "    return message.content[0].text"
   ]
  },
  {
   "cell_type": "markdown",
   "id": "5d9ab236",
   "metadata": {},
   "source": [
    "With system prompt"
   ]
  },
  {
   "cell_type": "code",
   "execution_count": null,
   "id": "90f12b12",
   "metadata": {},
   "outputs": [],
   "source": [
    "messages = []\n",
    "\n",
    "# system prompt\n",
    "system_prompt = \"\"\"\"\n",
    "You are a patient math tutor. \n",
    "Do not directly answer a student's questions. \n",
    "Guide them to a solution step by step.\n",
    "\"\"\"\n",
    "\n",
    "# Repeat question\n",
    "add_user_message(messages, \"How do I solve 5x+3=2 for x?\")\n",
    "\n",
    "\n",
    "\n",
    "answer = chat(messages, system)\n",
    "\n",
    "answer"
   ]
  },
  {
   "cell_type": "markdown",
   "id": "80293d32",
   "metadata": {},
   "source": [
    "without system prompt"
   ]
  },
  {
   "cell_type": "code",
   "execution_count": null,
   "id": "08eb9c17",
   "metadata": {},
   "outputs": [],
   "source": [
    "answer = chat(messages)\n",
    "answer"
   ]
  },
  {
   "cell_type": "markdown",
   "id": "bf23d21c",
   "metadata": {},
   "source": [
    "Exercise"
   ]
  },
  {
   "cell_type": "markdown",
   "id": "548bccf2",
   "metadata": {},
   "source": [
    "First without system_prompt"
   ]
  },
  {
   "cell_type": "code",
   "execution_count": null,
   "id": "65ef80da",
   "metadata": {},
   "outputs": [],
   "source": [
    "messages = []\n",
    "\n",
    "add_user_message(\n",
    "    messages,\n",
    "    \"Write a Python function that checks a string for duplicate characters\"\n",
    "                  )\n",
    "\n",
    "answer = chat(messages)\n",
    "\n",
    "answer"
   ]
  },
  {
   "cell_type": "markdown",
   "id": "18e9ee7c",
   "metadata": {},
   "source": [
    "With system prompt"
   ]
  },
  {
   "cell_type": "code",
   "execution_count": null,
   "id": "f7ebcddf",
   "metadata": {},
   "outputs": [],
   "source": [
    "system_prompt = \"\"\"\n",
    "You are a data engineer who just writes code. Just a code comment on top of the code\n",
    "\"\"\"\n",
    "\n",
    "messages = []\n",
    "\n",
    "add_user_message(\n",
    "    messages,\n",
    "    \"Write a Python function that checks a string for duplicate characters\"\n",
    "                  )\n",
    "\n",
    "answer = chat(messages, system)\n",
    "\n",
    "answer"
   ]
  },
  {
   "cell_type": "code",
   "execution_count": null,
   "id": "182f651e",
   "metadata": {},
   "outputs": [],
   "source": [
    "def has_duplicate_characters(x):\n",
    "    return len(x) != len(set(x))"
   ]
  },
  {
   "cell_type": "code",
   "execution_count": null,
   "id": "a8da9554",
   "metadata": {},
   "outputs": [],
   "source": [
    "lesson = 'Abacha'"
   ]
  },
  {
   "cell_type": "code",
   "execution_count": null,
   "id": "38248f2f",
   "metadata": {},
   "outputs": [],
   "source": [
    "has_duplicate_characters(lesson)"
   ]
  },
  {
   "cell_type": "code",
   "execution_count": null,
   "id": "7570e360",
   "metadata": {},
   "outputs": [],
   "source": [
    "messages = []\n",
    "\n",
    "add_user_message(\n",
    "    messages,\n",
    "    \"Write a Python function that checks a string for duplicate characters\"\n",
    "                  )\n",
    "\n",
    "answer = chat(messages, system =\"You are a Python engineer who writees very concide code\")\n",
    "\n",
    "answer"
   ]
  },
  {
   "cell_type": "code",
   "execution_count": null,
   "id": "4a6bd1d7",
   "metadata": {},
   "outputs": [],
   "source": [
    "def has_duplicate_characters(s):\n",
    "    return len(s) != len(set(s))\n"
   ]
  },
  {
   "cell_type": "markdown",
   "id": "089c2e43",
   "metadata": {},
   "source": [
    "Temperature"
   ]
  },
  {
   "cell_type": "code",
   "execution_count": null,
   "id": "686d5fad",
   "metadata": {},
   "outputs": [],
   "source": [
    "def add_user_message(messages, text):\n",
    "    user_message = {\"role\": \"user\", \"content\":  text}\n",
    "    messages.append(user_message)\n",
    "\n",
    "def add_assistant_message(messages, text):\n",
    "    assistant_message = {\"role\": \"assistant\", \"content\":  text}\n",
    "    messages.append(assistant_message)\n",
    "\n",
    "# Define chat function with input parameters: messages and system. Assign None to system.\n",
    "def chat(messages, system=None, temperature = 1.0):\n",
    "    params = {\n",
    "        \"model\": model,\n",
    "        \"max_tokens\": 1000,\n",
    "        \"messages\": messages,\n",
    "        \"temperature\": temperature   \n",
    "    }\n",
    "\n",
    "# This checks if system_prompt was provided. Otherwise the 'None' takes precedence - params\n",
    "    if system: \n",
    "        params[\"system\"] = system_prompt\n",
    "\n",
    "    message = client.messages.create(**params)\n",
    "    return message.content[0].text"
   ]
  },
  {
   "cell_type": "code",
   "execution_count": null,
   "id": "d84dfbec",
   "metadata": {},
   "outputs": [],
   "source": [
    "messages = []\n",
    "\n",
    "add_user_message(\n",
    "    messages,\n",
    "    \"Generate a one sentence movie idea\"\n",
    "                  )\n",
    "\n",
    "answer = chat(messages, temperature=0.0)\n",
    "\n",
    "answer"
   ]
  },
  {
   "cell_type": "code",
   "execution_count": null,
   "id": "199756f4",
   "metadata": {},
   "outputs": [],
   "source": [
    "messages = []\n",
    "\n",
    "add_user_message(\n",
    "    messages,\n",
    "    \"Generate a one sentence movie idea\"\n",
    "                  )\n",
    "\n",
    "answer = chat(messages, temperature=1.0)\n",
    "\n",
    "answer"
   ]
  },
  {
   "cell_type": "code",
   "execution_count": null,
   "id": "07842376",
   "metadata": {},
   "outputs": [],
   "source": []
  }
 ],
 "metadata": {
  "kernelspec": {
   "display_name": "dl-gpu",
   "language": "python",
   "name": "dl-gpu"
  },
  "language_info": {
   "codemirror_mode": {
    "name": "ipython",
    "version": 3
   },
   "file_extension": ".py",
   "mimetype": "text/x-python",
   "name": "python",
   "nbconvert_exporter": "python",
   "pygments_lexer": "ipython3",
   "version": "3.10.16"
  }
 },
 "nbformat": 4,
 "nbformat_minor": 5
}
